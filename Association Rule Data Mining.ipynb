{
 "cells": [
  {
   "cell_type": "code",
   "execution_count": 1,
   "id": "1036a7a7",
   "metadata": {},
   "outputs": [],
   "source": [
    "#importing Libraries necessary for Analysis\n",
    "import matplotlib.pyplot as plt; plt.rcdefaults()\n",
    "import matplotlib.pyplot as plt\n",
    "import pandas as pd\n",
    "import numpy as np\n",
    "import warnings\n",
    "warnings.filterwarnings('ignore')"
   ]
  },
  {
   "cell_type": "code",
   "execution_count": 2,
   "id": "c1698b90",
   "metadata": {},
   "outputs": [],
   "source": [
    "#Reading in the dataset\n",
    "df = pd.read_csv('C:\\\\Users\\\\w\\\\Downloads\\\\dataset.zip', sep='\\t',dtype=np.str)"
   ]
  },
  {
   "cell_type": "code",
   "execution_count": 3,
   "id": "223301b5",
   "metadata": {},
   "outputs": [
    {
     "data": {
      "text/html": [
       "<div>\n",
       "<style scoped>\n",
       "    .dataframe tbody tr th:only-of-type {\n",
       "        vertical-align: middle;\n",
       "    }\n",
       "\n",
       "    .dataframe tbody tr th {\n",
       "        vertical-align: top;\n",
       "    }\n",
       "\n",
       "    .dataframe thead th {\n",
       "        text-align: right;\n",
       "    }\n",
       "</style>\n",
       "<table border=\"1\" class=\"dataframe\">\n",
       "  <thead>\n",
       "    <tr style=\"text-align: right;\">\n",
       "      <th></th>\n",
       "      <th>transaction_ID</th>\n",
       "      <th>Date</th>\n",
       "      <th>Time</th>\n",
       "      <th>item_0</th>\n",
       "      <th>item_1</th>\n",
       "      <th>item_2</th>\n",
       "      <th>item_3</th>\n",
       "      <th>item_4</th>\n",
       "      <th>item_5</th>\n",
       "      <th>item_6</th>\n",
       "      <th>...</th>\n",
       "      <th>item_31</th>\n",
       "      <th>item_32</th>\n",
       "      <th>item_33</th>\n",
       "      <th>item_34</th>\n",
       "      <th>item_35</th>\n",
       "      <th>item_36</th>\n",
       "      <th>item_37</th>\n",
       "      <th>item_38</th>\n",
       "      <th>item_39</th>\n",
       "      <th>item_40</th>\n",
       "    </tr>\n",
       "  </thead>\n",
       "  <tbody>\n",
       "    <tr>\n",
       "      <th>0</th>\n",
       "      <td>536365</td>\n",
       "      <td>01/12/2010</td>\n",
       "      <td>08:26</td>\n",
       "      <td>WHITE HANGING HEART T-LIGHT HOLDER</td>\n",
       "      <td>WHITE METAL LANTERN</td>\n",
       "      <td>CREAM CUPID HEARTS COAT HANGER</td>\n",
       "      <td>KNITTED UNION FLAG HOT WATER BOTTLE</td>\n",
       "      <td>RED WOOLLY HOTTIE WHITE HEART</td>\n",
       "      <td>SET 7 BABUSHKA NESTING BOXES</td>\n",
       "      <td>GLASS STAR FROSTED T-LIGHT HOLDER</td>\n",
       "      <td>...</td>\n",
       "      <td>NaN</td>\n",
       "      <td>NaN</td>\n",
       "      <td>NaN</td>\n",
       "      <td>NaN</td>\n",
       "      <td>NaN</td>\n",
       "      <td>NaN</td>\n",
       "      <td>NaN</td>\n",
       "      <td>NaN</td>\n",
       "      <td>NaN</td>\n",
       "      <td>NaN</td>\n",
       "    </tr>\n",
       "    <tr>\n",
       "      <th>1</th>\n",
       "      <td>536366</td>\n",
       "      <td>01/12/2010</td>\n",
       "      <td>08:28</td>\n",
       "      <td>HAND WARMER UNION JACK</td>\n",
       "      <td>HAND WARMER RED POLKA DOT</td>\n",
       "      <td>NaN</td>\n",
       "      <td>NaN</td>\n",
       "      <td>NaN</td>\n",
       "      <td>NaN</td>\n",
       "      <td>NaN</td>\n",
       "      <td>...</td>\n",
       "      <td>NaN</td>\n",
       "      <td>NaN</td>\n",
       "      <td>NaN</td>\n",
       "      <td>NaN</td>\n",
       "      <td>NaN</td>\n",
       "      <td>NaN</td>\n",
       "      <td>NaN</td>\n",
       "      <td>NaN</td>\n",
       "      <td>NaN</td>\n",
       "      <td>NaN</td>\n",
       "    </tr>\n",
       "    <tr>\n",
       "      <th>2</th>\n",
       "      <td>536367</td>\n",
       "      <td>01/12/2010</td>\n",
       "      <td>08:34</td>\n",
       "      <td>ASSORTED COLOUR BIRD ORNAMENT</td>\n",
       "      <td>POPPY'S PLAYHOUSE BEDROOM</td>\n",
       "      <td>POPPY'S PLAYHOUSE KITCHEN</td>\n",
       "      <td>FELTCRAFT PRINCESS CHARLOTTE DOLL</td>\n",
       "      <td>IVORY KNITTED MUG COSY</td>\n",
       "      <td>BOX OF 6 ASSORTED COLOUR TEASPOONS</td>\n",
       "      <td>BOX OF VINTAGE JIGSAW BLOCKS</td>\n",
       "      <td>...</td>\n",
       "      <td>NaN</td>\n",
       "      <td>NaN</td>\n",
       "      <td>NaN</td>\n",
       "      <td>NaN</td>\n",
       "      <td>NaN</td>\n",
       "      <td>NaN</td>\n",
       "      <td>NaN</td>\n",
       "      <td>NaN</td>\n",
       "      <td>NaN</td>\n",
       "      <td>NaN</td>\n",
       "    </tr>\n",
       "    <tr>\n",
       "      <th>3</th>\n",
       "      <td>536368</td>\n",
       "      <td>01/12/2010</td>\n",
       "      <td>08:34</td>\n",
       "      <td>JAM MAKING SET WITH JARS</td>\n",
       "      <td>RED COAT RACK PARIS FASHION</td>\n",
       "      <td>YELLOW COAT RACK PARIS FASHION</td>\n",
       "      <td>BLUE COAT RACK PARIS FASHION</td>\n",
       "      <td>NaN</td>\n",
       "      <td>NaN</td>\n",
       "      <td>NaN</td>\n",
       "      <td>...</td>\n",
       "      <td>NaN</td>\n",
       "      <td>NaN</td>\n",
       "      <td>NaN</td>\n",
       "      <td>NaN</td>\n",
       "      <td>NaN</td>\n",
       "      <td>NaN</td>\n",
       "      <td>NaN</td>\n",
       "      <td>NaN</td>\n",
       "      <td>NaN</td>\n",
       "      <td>NaN</td>\n",
       "    </tr>\n",
       "    <tr>\n",
       "      <th>4</th>\n",
       "      <td>536369</td>\n",
       "      <td>01/12/2010</td>\n",
       "      <td>08:35</td>\n",
       "      <td>BATH BUILDING BLOCK WORD</td>\n",
       "      <td>NaN</td>\n",
       "      <td>NaN</td>\n",
       "      <td>NaN</td>\n",
       "      <td>NaN</td>\n",
       "      <td>NaN</td>\n",
       "      <td>NaN</td>\n",
       "      <td>...</td>\n",
       "      <td>NaN</td>\n",
       "      <td>NaN</td>\n",
       "      <td>NaN</td>\n",
       "      <td>NaN</td>\n",
       "      <td>NaN</td>\n",
       "      <td>NaN</td>\n",
       "      <td>NaN</td>\n",
       "      <td>NaN</td>\n",
       "      <td>NaN</td>\n",
       "      <td>NaN</td>\n",
       "    </tr>\n",
       "  </tbody>\n",
       "</table>\n",
       "<p>5 rows × 44 columns</p>\n",
       "</div>"
      ],
      "text/plain": [
       "  transaction_ID        Date   Time                              item_0  \\\n",
       "0         536365  01/12/2010  08:26  WHITE HANGING HEART T-LIGHT HOLDER   \n",
       "1         536366  01/12/2010  08:28              HAND WARMER UNION JACK   \n",
       "2         536367  01/12/2010  08:34       ASSORTED COLOUR BIRD ORNAMENT   \n",
       "3         536368  01/12/2010  08:34            JAM MAKING SET WITH JARS   \n",
       "4         536369  01/12/2010  08:35            BATH BUILDING BLOCK WORD   \n",
       "\n",
       "                        item_1                          item_2  \\\n",
       "0          WHITE METAL LANTERN  CREAM CUPID HEARTS COAT HANGER   \n",
       "1    HAND WARMER RED POLKA DOT                             NaN   \n",
       "2    POPPY'S PLAYHOUSE BEDROOM       POPPY'S PLAYHOUSE KITCHEN   \n",
       "3  RED COAT RACK PARIS FASHION  YELLOW COAT RACK PARIS FASHION   \n",
       "4                          NaN                             NaN   \n",
       "\n",
       "                                item_3                         item_4  \\\n",
       "0  KNITTED UNION FLAG HOT WATER BOTTLE  RED WOOLLY HOTTIE WHITE HEART   \n",
       "1                                  NaN                            NaN   \n",
       "2    FELTCRAFT PRINCESS CHARLOTTE DOLL         IVORY KNITTED MUG COSY   \n",
       "3         BLUE COAT RACK PARIS FASHION                            NaN   \n",
       "4                                  NaN                            NaN   \n",
       "\n",
       "                               item_5                             item_6  ...  \\\n",
       "0        SET 7 BABUSHKA NESTING BOXES  GLASS STAR FROSTED T-LIGHT HOLDER  ...   \n",
       "1                                 NaN                                NaN  ...   \n",
       "2  BOX OF 6 ASSORTED COLOUR TEASPOONS       BOX OF VINTAGE JIGSAW BLOCKS  ...   \n",
       "3                                 NaN                                NaN  ...   \n",
       "4                                 NaN                                NaN  ...   \n",
       "\n",
       "  item_31 item_32 item_33 item_34 item_35 item_36 item_37 item_38 item_39  \\\n",
       "0     NaN     NaN     NaN     NaN     NaN     NaN     NaN     NaN     NaN   \n",
       "1     NaN     NaN     NaN     NaN     NaN     NaN     NaN     NaN     NaN   \n",
       "2     NaN     NaN     NaN     NaN     NaN     NaN     NaN     NaN     NaN   \n",
       "3     NaN     NaN     NaN     NaN     NaN     NaN     NaN     NaN     NaN   \n",
       "4     NaN     NaN     NaN     NaN     NaN     NaN     NaN     NaN     NaN   \n",
       "\n",
       "  item_40  \n",
       "0     NaN  \n",
       "1     NaN  \n",
       "2     NaN  \n",
       "3     NaN  \n",
       "4     NaN  \n",
       "\n",
       "[5 rows x 44 columns]"
      ]
     },
     "execution_count": 3,
     "metadata": {},
     "output_type": "execute_result"
    }
   ],
   "source": [
    "df.head(5)"
   ]
  },
  {
   "cell_type": "code",
   "execution_count": 4,
   "id": "25a06a7c",
   "metadata": {
    "scrolled": true
   },
   "outputs": [
    {
     "data": {
      "text/plain": [
       "(31941, 44)"
      ]
     },
     "execution_count": 4,
     "metadata": {},
     "output_type": "execute_result"
    }
   ],
   "source": [
    "df.shape #Returns a tuple of rows and columns"
   ]
  },
  {
   "cell_type": "code",
   "execution_count": 6,
   "id": "dd445dae",
   "metadata": {},
   "outputs": [],
   "source": [
    "np.random.seed(1530)\n",
    "unique_id = int('2' + '1530')\n",
    "rows = np.random.choice(df.index.values, unique_id)\n",
    "data = df.loc[rows]"
   ]
  },
  {
   "cell_type": "code",
   "execution_count": 7,
   "id": "710d0e80",
   "metadata": {},
   "outputs": [],
   "source": [
    "#Generating Personalized Dataset\n",
    "file_name = \"marketbasket.csv\"\n",
    "data.to_csv(file_name) "
   ]
  },
  {
   "cell_type": "code",
   "execution_count": 8,
   "id": "6eae3ac6",
   "metadata": {},
   "outputs": [
    {
     "data": {
      "text/plain": [
       "305"
      ]
     },
     "execution_count": 8,
     "metadata": {},
     "output_type": "execute_result"
    }
   ],
   "source": [
    "data['Date'].nunique()"
   ]
  },
  {
   "cell_type": "code",
   "execution_count": 9,
   "id": "a955b833",
   "metadata": {},
   "outputs": [],
   "source": [
    "data['Hour'] = pd.to_datetime(data['Time'], format='%H:%M').dt.hour"
   ]
  },
  {
   "cell_type": "code",
   "execution_count": 10,
   "id": "b954545b",
   "metadata": {},
   "outputs": [
    {
     "data": {
      "image/png": "[encoded data removed]",
      "text/plain": [
       "<Figure size 640x480 with 1 Axes>"
      ]
     },
     "metadata": {},
     "output_type": "display_data"
    }
   ],
   "source": [
    "#Visualisation of sale frequency per hour\n",
    "hour_hist = data.hist(column=\"Hour\", bins=15, grid=False)\n",
    " \n",
    "for ax in hour_hist.flatten():\n",
    "    ax.set_xlabel(\"Hour\")\n",
    "    ax.set_ylabel(\"Frequency\")"
   ]
  },
  {
   "cell_type": "code",
   "execution_count": 11,
   "id": "5fb23d55",
   "metadata": {},
   "outputs": [],
   "source": [
    "#Importing apriori library to Mine Association Rules\n",
    "from apyori import apriori"
   ]
  },
  {
   "cell_type": "code",
   "execution_count": 12,
   "id": "6210e713",
   "metadata": {},
   "outputs": [
    {
     "data": {
      "text/html": [
       "<div>\n",
       "<style scoped>\n",
       "    .dataframe tbody tr th:only-of-type {\n",
       "        vertical-align: middle;\n",
       "    }\n",
       "\n",
       "    .dataframe tbody tr th {\n",
       "        vertical-align: top;\n",
       "    }\n",
       "\n",
       "    .dataframe thead th {\n",
       "        text-align: right;\n",
       "    }\n",
       "</style>\n",
       "<table border=\"1\" class=\"dataframe\">\n",
       "  <thead>\n",
       "    <tr style=\"text-align: right;\">\n",
       "      <th></th>\n",
       "      <th>transaction_ID</th>\n",
       "      <th>Date</th>\n",
       "      <th>Time</th>\n",
       "      <th>item_0</th>\n",
       "      <th>item_1</th>\n",
       "      <th>item_2</th>\n",
       "      <th>item_3</th>\n",
       "      <th>item_4</th>\n",
       "      <th>item_5</th>\n",
       "      <th>item_6</th>\n",
       "      <th>...</th>\n",
       "      <th>item_32</th>\n",
       "      <th>item_33</th>\n",
       "      <th>item_34</th>\n",
       "      <th>item_35</th>\n",
       "      <th>item_36</th>\n",
       "      <th>item_37</th>\n",
       "      <th>item_38</th>\n",
       "      <th>item_39</th>\n",
       "      <th>item_40</th>\n",
       "      <th>Hour</th>\n",
       "    </tr>\n",
       "  </thead>\n",
       "  <tbody>\n",
       "    <tr>\n",
       "      <th>18087</th>\n",
       "      <td>562436</td>\n",
       "      <td>04/08/2011</td>\n",
       "      <td>17:55</td>\n",
       "      <td>FRENCH LAVENDER SCENT HEART</td>\n",
       "      <td>NaN</td>\n",
       "      <td>NaN</td>\n",
       "      <td>NaN</td>\n",
       "      <td>NaN</td>\n",
       "      <td>NaN</td>\n",
       "      <td>NaN</td>\n",
       "      <td>...</td>\n",
       "      <td>NaN</td>\n",
       "      <td>NaN</td>\n",
       "      <td>NaN</td>\n",
       "      <td>NaN</td>\n",
       "      <td>NaN</td>\n",
       "      <td>NaN</td>\n",
       "      <td>NaN</td>\n",
       "      <td>NaN</td>\n",
       "      <td>NaN</td>\n",
       "      <td>17</td>\n",
       "    </tr>\n",
       "  </tbody>\n",
       "</table>\n",
       "<p>1 rows × 45 columns</p>\n",
       "</div>"
      ],
      "text/plain": [
       "      transaction_ID        Date   Time                       item_0 item_1  \\\n",
       "18087         562436  04/08/2011  17:55  FRENCH LAVENDER SCENT HEART    NaN   \n",
       "\n",
       "      item_2 item_3 item_4 item_5 item_6  ... item_32 item_33 item_34 item_35  \\\n",
       "18087    NaN    NaN    NaN    NaN    NaN  ...     NaN     NaN     NaN     NaN   \n",
       "\n",
       "      item_36 item_37 item_38 item_39 item_40 Hour  \n",
       "18087     NaN     NaN     NaN     NaN     NaN   17  \n",
       "\n",
       "[1 rows x 45 columns]"
      ]
     },
     "execution_count": 12,
     "metadata": {},
     "output_type": "execute_result"
    }
   ],
   "source": [
    "data.head(1)"
   ]
  },
  {
   "cell_type": "code",
   "execution_count": 13,
   "id": "fb4e20ed",
   "metadata": {},
   "outputs": [],
   "source": [
    "items_df=data[data.columns[3:44]]"
   ]
  },
  {
   "cell_type": "code",
   "execution_count": 14,
   "id": "bc87db56",
   "metadata": {},
   "outputs": [
    {
     "data": {
      "text/html": [
       "<div>\n",
       "<style scoped>\n",
       "    .dataframe tbody tr th:only-of-type {\n",
       "        vertical-align: middle;\n",
       "    }\n",
       "\n",
       "    .dataframe tbody tr th {\n",
       "        vertical-align: top;\n",
       "    }\n",
       "\n",
       "    .dataframe thead th {\n",
       "        text-align: right;\n",
       "    }\n",
       "</style>\n",
       "<table border=\"1\" class=\"dataframe\">\n",
       "  <thead>\n",
       "    <tr style=\"text-align: right;\">\n",
       "      <th></th>\n",
       "      <th>item_0</th>\n",
       "      <th>item_1</th>\n",
       "      <th>item_2</th>\n",
       "      <th>item_3</th>\n",
       "      <th>item_4</th>\n",
       "      <th>item_5</th>\n",
       "      <th>item_6</th>\n",
       "      <th>item_7</th>\n",
       "      <th>item_8</th>\n",
       "      <th>item_9</th>\n",
       "      <th>...</th>\n",
       "      <th>item_31</th>\n",
       "      <th>item_32</th>\n",
       "      <th>item_33</th>\n",
       "      <th>item_34</th>\n",
       "      <th>item_35</th>\n",
       "      <th>item_36</th>\n",
       "      <th>item_37</th>\n",
       "      <th>item_38</th>\n",
       "      <th>item_39</th>\n",
       "      <th>item_40</th>\n",
       "    </tr>\n",
       "  </thead>\n",
       "  <tbody>\n",
       "    <tr>\n",
       "      <th>18087</th>\n",
       "      <td>FRENCH LAVENDER SCENT HEART</td>\n",
       "      <td>NaN</td>\n",
       "      <td>NaN</td>\n",
       "      <td>NaN</td>\n",
       "      <td>NaN</td>\n",
       "      <td>NaN</td>\n",
       "      <td>NaN</td>\n",
       "      <td>NaN</td>\n",
       "      <td>NaN</td>\n",
       "      <td>NaN</td>\n",
       "      <td>...</td>\n",
       "      <td>NaN</td>\n",
       "      <td>NaN</td>\n",
       "      <td>NaN</td>\n",
       "      <td>NaN</td>\n",
       "      <td>NaN</td>\n",
       "      <td>NaN</td>\n",
       "      <td>NaN</td>\n",
       "      <td>NaN</td>\n",
       "      <td>NaN</td>\n",
       "      <td>NaN</td>\n",
       "    </tr>\n",
       "    <tr>\n",
       "      <th>19069</th>\n",
       "      <td>AIRLINE BAG VINTAGE JET SET BROWN</td>\n",
       "      <td>AIRLINE BAG VINTAGE TOKYO 78</td>\n",
       "      <td>LUNCH BAG SUKI DESIGN</td>\n",
       "      <td>LUNCH BAG CARS BLUE</td>\n",
       "      <td>ENGLISH ROSE NOTEBOOK A7 SIZE</td>\n",
       "      <td>BLUE HAPPY BIRTHDAY BUNTING</td>\n",
       "      <td>SPOTTY BUNTING</td>\n",
       "      <td>JUMBO BAG RED RETROSPOT</td>\n",
       "      <td>LUNCH BAG DOLLY GIRL DESIGN</td>\n",
       "      <td>LUNCH BAG  BLACK SKULL</td>\n",
       "      <td>...</td>\n",
       "      <td>NaN</td>\n",
       "      <td>NaN</td>\n",
       "      <td>NaN</td>\n",
       "      <td>NaN</td>\n",
       "      <td>NaN</td>\n",
       "      <td>NaN</td>\n",
       "      <td>NaN</td>\n",
       "      <td>NaN</td>\n",
       "      <td>NaN</td>\n",
       "      <td>NaN</td>\n",
       "    </tr>\n",
       "    <tr>\n",
       "      <th>787</th>\n",
       "      <td>PAPER CHAIN KIT 50'S CHRISTMAS</td>\n",
       "      <td>PAPER CHAIN KIT VINTAGE CHRISTMAS</td>\n",
       "      <td>ASSORTED COLOUR BIRD ORNAMENT</td>\n",
       "      <td>HOME BUILDING BLOCK WORD</td>\n",
       "      <td>NaN</td>\n",
       "      <td>NaN</td>\n",
       "      <td>NaN</td>\n",
       "      <td>NaN</td>\n",
       "      <td>NaN</td>\n",
       "      <td>NaN</td>\n",
       "      <td>...</td>\n",
       "      <td>NaN</td>\n",
       "      <td>NaN</td>\n",
       "      <td>NaN</td>\n",
       "      <td>NaN</td>\n",
       "      <td>NaN</td>\n",
       "      <td>NaN</td>\n",
       "      <td>NaN</td>\n",
       "      <td>NaN</td>\n",
       "      <td>NaN</td>\n",
       "      <td>NaN</td>\n",
       "    </tr>\n",
       "    <tr>\n",
       "      <th>739</th>\n",
       "      <td>REGENCY CAKESTAND 3 TIER</td>\n",
       "      <td>MINT KITCHEN SCALES</td>\n",
       "      <td>IVORY KITCHEN SCALES</td>\n",
       "      <td>BLACK KITCHEN SCALES</td>\n",
       "      <td>PAPER CHAIN KIT VINTAGE CHRISTMAS</td>\n",
       "      <td>CHRISTMAS CRAFT WHITE FAIRY</td>\n",
       "      <td>CHRISTMAS CRAFT LITTLE FRIENDS</td>\n",
       "      <td>RECIPE BOX RETROSPOT</td>\n",
       "      <td>RECIPE BOX PANTRY YELLOW DESIGN</td>\n",
       "      <td>RECIPE BOX BLUE SKETCHBOOK DESIGN</td>\n",
       "      <td>...</td>\n",
       "      <td>TOAST ITS - BEST MUM</td>\n",
       "      <td>TOAST ITS - DINOSAUR</td>\n",
       "      <td>TOAST ITS - FAIRY FLOWER</td>\n",
       "      <td>PAPER CHAIN KIT 50'S CHRISTMAS</td>\n",
       "      <td>AIRLINE BAG VINTAGE TOKYO 78</td>\n",
       "      <td>3 TRADITIONAl BISCUIT CUTTERS  SET</td>\n",
       "      <td>KITCHEN METAL SIGN</td>\n",
       "      <td>BATHROOM METAL SIGN</td>\n",
       "      <td>TOILET METAL SIGN</td>\n",
       "      <td>NOVELTY BISCUITS CAKE STAND 3 TIER</td>\n",
       "    </tr>\n",
       "    <tr>\n",
       "      <th>28994</th>\n",
       "      <td>ANTIQUE SILVER T-LIGHT GLASS</td>\n",
       "      <td>VINTAGE HEADS AND TAILS CARD GAME</td>\n",
       "      <td>PLASTERS IN TIN STRONGMAN</td>\n",
       "      <td>PLASTERS IN TIN VINTAGE PAISLEY</td>\n",
       "      <td>MULTI COLOUR SILVER T-LIGHT HOLDER</td>\n",
       "      <td>NaN</td>\n",
       "      <td>NaN</td>\n",
       "      <td>NaN</td>\n",
       "      <td>NaN</td>\n",
       "      <td>NaN</td>\n",
       "      <td>...</td>\n",
       "      <td>NaN</td>\n",
       "      <td>NaN</td>\n",
       "      <td>NaN</td>\n",
       "      <td>NaN</td>\n",
       "      <td>NaN</td>\n",
       "      <td>NaN</td>\n",
       "      <td>NaN</td>\n",
       "      <td>NaN</td>\n",
       "      <td>NaN</td>\n",
       "      <td>NaN</td>\n",
       "    </tr>\n",
       "  </tbody>\n",
       "</table>\n",
       "<p>5 rows × 41 columns</p>\n",
       "</div>"
      ],
      "text/plain": [
       "                                  item_0                             item_1  \\\n",
       "18087        FRENCH LAVENDER SCENT HEART                                NaN   \n",
       "19069  AIRLINE BAG VINTAGE JET SET BROWN       AIRLINE BAG VINTAGE TOKYO 78   \n",
       "787       PAPER CHAIN KIT 50'S CHRISTMAS  PAPER CHAIN KIT VINTAGE CHRISTMAS   \n",
       "739             REGENCY CAKESTAND 3 TIER                MINT KITCHEN SCALES   \n",
       "28994       ANTIQUE SILVER T-LIGHT GLASS  VINTAGE HEADS AND TAILS CARD GAME   \n",
       "\n",
       "                              item_2                           item_3  \\\n",
       "18087                            NaN                              NaN   \n",
       "19069          LUNCH BAG SUKI DESIGN              LUNCH BAG CARS BLUE   \n",
       "787    ASSORTED COLOUR BIRD ORNAMENT         HOME BUILDING BLOCK WORD   \n",
       "739             IVORY KITCHEN SCALES             BLACK KITCHEN SCALES   \n",
       "28994      PLASTERS IN TIN STRONGMAN  PLASTERS IN TIN VINTAGE PAISLEY   \n",
       "\n",
       "                                   item_4                       item_5  \\\n",
       "18087                                 NaN                          NaN   \n",
       "19069       ENGLISH ROSE NOTEBOOK A7 SIZE  BLUE HAPPY BIRTHDAY BUNTING   \n",
       "787                                   NaN                          NaN   \n",
       "739     PAPER CHAIN KIT VINTAGE CHRISTMAS  CHRISTMAS CRAFT WHITE FAIRY   \n",
       "28994  MULTI COLOUR SILVER T-LIGHT HOLDER                          NaN   \n",
       "\n",
       "                               item_6                   item_7  \\\n",
       "18087                             NaN                      NaN   \n",
       "19069                  SPOTTY BUNTING  JUMBO BAG RED RETROSPOT   \n",
       "787                               NaN                      NaN   \n",
       "739    CHRISTMAS CRAFT LITTLE FRIENDS     RECIPE BOX RETROSPOT   \n",
       "28994                             NaN                      NaN   \n",
       "\n",
       "                                item_8                             item_9  \\\n",
       "18087                              NaN                                NaN   \n",
       "19069      LUNCH BAG DOLLY GIRL DESIGN             LUNCH BAG  BLACK SKULL   \n",
       "787                                NaN                                NaN   \n",
       "739    RECIPE BOX PANTRY YELLOW DESIGN  RECIPE BOX BLUE SKETCHBOOK DESIGN   \n",
       "28994                              NaN                                NaN   \n",
       "\n",
       "       ...               item_31               item_32  \\\n",
       "18087  ...                   NaN                   NaN   \n",
       "19069  ...                   NaN                   NaN   \n",
       "787    ...                   NaN                   NaN   \n",
       "739    ...  TOAST ITS - BEST MUM  TOAST ITS - DINOSAUR   \n",
       "28994  ...                   NaN                   NaN   \n",
       "\n",
       "                        item_33                         item_34  \\\n",
       "18087                       NaN                             NaN   \n",
       "19069                       NaN                             NaN   \n",
       "787                         NaN                             NaN   \n",
       "739    TOAST ITS - FAIRY FLOWER  PAPER CHAIN KIT 50'S CHRISTMAS   \n",
       "28994                       NaN                             NaN   \n",
       "\n",
       "                            item_35                             item_36  \\\n",
       "18087                           NaN                                 NaN   \n",
       "19069                           NaN                                 NaN   \n",
       "787                             NaN                                 NaN   \n",
       "739    AIRLINE BAG VINTAGE TOKYO 78  3 TRADITIONAl BISCUIT CUTTERS  SET   \n",
       "28994                           NaN                                 NaN   \n",
       "\n",
       "                  item_37              item_38            item_39  \\\n",
       "18087                 NaN                  NaN                NaN   \n",
       "19069                 NaN                  NaN                NaN   \n",
       "787                   NaN                  NaN                NaN   \n",
       "739    KITCHEN METAL SIGN  BATHROOM METAL SIGN  TOILET METAL SIGN   \n",
       "28994                 NaN                  NaN                NaN   \n",
       "\n",
       "                                  item_40  \n",
       "18087                                 NaN  \n",
       "19069                                 NaN  \n",
       "787                                   NaN  \n",
       "739    NOVELTY BISCUITS CAKE STAND 3 TIER  \n",
       "28994                                 NaN  \n",
       "\n",
       "[5 rows x 41 columns]"
      ]
     },
     "execution_count": 14,
     "metadata": {},
     "output_type": "execute_result"
    }
   ],
   "source": [
    "items_df.head()"
   ]
  },
  {
   "cell_type": "code",
   "execution_count": 15,
   "id": "40ee9f1f",
   "metadata": {},
   "outputs": [],
   "source": [
    "baskets = items_df.T.apply(lambda x: x.dropna().tolist()).tolist()"
   ]
  },
  {
   "cell_type": "code",
   "execution_count": 16,
   "id": "d8161396",
   "metadata": {},
   "outputs": [
    {
     "name": "stdout",
     "output_type": "stream",
     "text": [
      "['FRENCH LAVENDER SCENT HEART']\n",
      "['AIRLINE BAG VINTAGE JET SET BROWN', 'AIRLINE BAG VINTAGE TOKYO 78', 'LUNCH BAG SUKI DESIGN', 'LUNCH BAG CARS BLUE', 'ENGLISH ROSE NOTEBOOK A7 SIZE', 'BLUE HAPPY BIRTHDAY BUNTING', 'SPOTTY BUNTING', 'JUMBO BAG RED RETROSPOT', 'LUNCH BAG DOLLY GIRL DESIGN', 'LUNCH BAG  BLACK SKULL', 'LUNCH BAG APPLE DESIGN', 'RECYCLING BAG RETROSPOT', 'TOY TIDY SPACEBOY', 'TOY TIDY PINK POLKADOT', 'JUMBO BAG VINTAGE LEAF', 'JUMBO BAG VINTAGE DOILY', 'PACK OF 72 SKULL CAKE CASES', 'PACK OF 72 RETROSPOT CAKE CASES', 'PACK OF 60 MUSHROOM CAKE CASES', 'PACK OF 60 DINOSAUR CAKE CASES', '60 TEATIME FAIRY CAKE CASES', 'SET OF 60 PANTRY DESIGN CAKE CASES', '60 CAKE CASES DOLLY GIRL DESIGN']\n",
      "[\"PAPER CHAIN KIT 50'S CHRISTMAS\", 'PAPER CHAIN KIT VINTAGE CHRISTMAS', 'ASSORTED COLOUR BIRD ORNAMENT', 'HOME BUILDING BLOCK WORD']\n",
      "['REGENCY CAKESTAND 3 TIER', 'MINT KITCHEN SCALES', 'IVORY KITCHEN SCALES', 'BLACK KITCHEN SCALES', 'PAPER CHAIN KIT VINTAGE CHRISTMAS', 'CHRISTMAS CRAFT WHITE FAIRY', 'CHRISTMAS CRAFT LITTLE FRIENDS', 'RECIPE BOX RETROSPOT', 'RECIPE BOX PANTRY YELLOW DESIGN', 'RECIPE BOX BLUE SKETCHBOOK DESIGN', 'CHRISTMAS TOILET ROLL', '60 CAKE CASES VINTAGE CHRISTMAS', 'CALENDAR IN SEASON DESIGN', 'CALENDAR PAPER CUT DESIGN', 'PAPER CHAIN KIT LONDON', 'CUPCAKE LACE PAPER SET 6', '12 MESSAGE CARDS WITH ENVELOPES', 'SMALL POPCORN HOLDER', 'RETROSPOT RED WASHING UP GLOVES', 'BLUE POLKADOT WASHING UP GLOVES', 'FUNKY WASHING UP GLOVES ASSORTED', '36 FOIL HEART CAKE CASES', '36 FOIL STAR CAKE CASES', 'BIRTHDAY PARTY CORDON BARRIER TAPE', 'SKULL LUNCH BOX WITH CUTLERY', 'LUNCH BOX WITH CUTLERY RETROSPOT', 'BLUE POLKADOT CUP', 'PINK  POLKADOT CUP', 'RED RETROSPOT CUP', 'STRAWBERRY LUNCH BOX WITH CUTLERY', 'TOAST ITS - I LOVE YOU', 'TOAST ITS - BEST MUM', 'TOAST ITS - DINOSAUR', 'TOAST ITS - FAIRY FLOWER', \"PAPER CHAIN KIT 50'S CHRISTMAS\", 'AIRLINE BAG VINTAGE TOKYO 78', '3 TRADITIONAl BISCUIT CUTTERS  SET', 'KITCHEN METAL SIGN', 'BATHROOM METAL SIGN', 'TOILET METAL SIGN', 'NOVELTY BISCUITS CAKE STAND 3 TIER']\n",
      "['ANTIQUE SILVER T-LIGHT GLASS', 'VINTAGE HEADS AND TAILS CARD GAME', 'PLASTERS IN TIN STRONGMAN', 'PLASTERS IN TIN VINTAGE PAISLEY', 'MULTI COLOUR SILVER T-LIGHT HOLDER']\n"
     ]
    }
   ],
   "source": [
    "for i in baskets[:5]:\n",
    "    print(i)"
   ]
  },
  {
   "cell_type": "code",
   "execution_count": 17,
   "id": "6ae2a72f",
   "metadata": {},
   "outputs": [],
   "source": [
    "association_rules = apriori(baskets, min_support=0.01, min_confidence=0.2, \n",
    "                            min_lift=3, min_length=2)\n",
    "association_results = list(association_rules)"
   ]
  },
  {
   "cell_type": "code",
   "execution_count": 18,
   "id": "64ad5732",
   "metadata": {},
   "outputs": [
    {
     "name": "stdout",
     "output_type": "stream",
     "text": [
      "Rules generated:  82\n"
     ]
    }
   ],
   "source": [
    "print('Rules generated: ', len(association_results))"
   ]
  },
  {
   "cell_type": "code",
   "execution_count": 19,
   "id": "ab7dbe03",
   "metadata": {},
   "outputs": [
    {
     "name": "stdout",
     "output_type": "stream",
     "text": [
      "RelationRecord(items=frozenset({'PACK OF 72 RETROSPOT CAKE CASES', '60 TEATIME FAIRY CAKE CASES'}), support=0.01114723641430562, ordered_statistics=[OrderedStatistic(items_base=frozenset({'60 TEATIME FAIRY CAKE CASES'}), items_add=frozenset({'PACK OF 72 RETROSPOT CAKE CASES'}), confidence=0.4026845637583893, lift=9.322364148084002), OrderedStatistic(items_base=frozenset({'PACK OF 72 RETROSPOT CAKE CASES'}), items_add=frozenset({'60 TEATIME FAIRY CAKE CASES'}), confidence=0.2580645161290323, lift=9.322364148084002)])\n"
     ]
    }
   ],
   "source": [
    "print(association_results[0])"
   ]
  },
  {
   "cell_type": "markdown",
   "id": "f7b14b97",
   "metadata": {},
   "source": [
    "## TEST\n",
    "Changing the index value [0] of 'association_results[0]' to see a a different rule."
   ]
  },
  {
   "cell_type": "code",
   "execution_count": 20,
   "id": "dc04adf3",
   "metadata": {},
   "outputs": [
    {
     "name": "stdout",
     "output_type": "stream",
     "text": [
      "RelationRecord(items=frozenset({'ALARM CLOCK BAKELIKE IVORY', 'ALARM CLOCK BAKELIKE GREEN'}), support=0.010357640501625638, ordered_statistics=[OrderedStatistic(items_base=frozenset({'ALARM CLOCK BAKELIKE GREEN'}), items_add=frozenset({'ALARM CLOCK BAKELIKE IVORY'}), confidence=0.33685800604229604, lift=17.732403105356074), OrderedStatistic(items_base=frozenset({'ALARM CLOCK BAKELIKE IVORY'}), items_add=frozenset({'ALARM CLOCK BAKELIKE GREEN'}), confidence=0.5452322738386307, lift=17.73240310535607)])\n"
     ]
    }
   ],
   "source": [
    "print(association_results[1])"
   ]
  },
  {
   "cell_type": "markdown",
   "id": "18f10880",
   "metadata": {},
   "source": [
    "## OBSERVATION\n",
    "After changing the index from 0 to 1 it returned a different list of values."
   ]
  },
  {
   "cell_type": "code",
   "execution_count": 21,
   "id": "e6cf0aa1",
   "metadata": {},
   "outputs": [],
   "source": [
    "def display_rules(association_results):\n",
    "    for item in association_results:\n",
    "        pair = item[0] \n",
    "        items = [x for x in pair]\n",
    "        print(\"Rule: \" + items[0] + \" -> \" + items[1])\n",
    "        print(\"Support: \" + str(item[1]))\n",
    "        print(\"Confidence: \" + str(item[2][0][2]))\n",
    "        print(\"Lift: \" + str(item[2][0][3]))\n",
    "        print(\"=====================================\")"
   ]
  },
  {
   "cell_type": "code",
   "execution_count": 22,
   "id": "7082cb6f",
   "metadata": {},
   "outputs": [
    {
     "name": "stdout",
     "output_type": "stream",
     "text": [
      "Rule: PACK OF 72 RETROSPOT CAKE CASES -> 60 TEATIME FAIRY CAKE CASES\n",
      "Support: 0.01114723641430562\n",
      "Confidence: 0.4026845637583893\n",
      "Lift: 9.322364148084002\n",
      "=====================================\n",
      "Rule: ALARM CLOCK BAKELIKE IVORY -> ALARM CLOCK BAKELIKE GREEN\n",
      "Support: 0.010357640501625638\n",
      "Confidence: 0.33685800604229604\n",
      "Lift: 17.732403105356074\n",
      "=====================================\n",
      "Rule: ALARM CLOCK BAKELIKE GREEN -> ALARM CLOCK BAKELIKE PINK\n",
      "Support: 0.012540640966093822\n",
      "Confidence: 0.4078549848942598\n",
      "Lift: 15.765023024727851\n",
      "=====================================\n",
      "Rule: ALARM CLOCK BAKELIKE GREEN -> ALARM CLOCK BAKELIKE RED\n",
      "Support: 0.019461216906641893\n",
      "Confidence: 0.632930513595166\n",
      "Lift: 19.38405968378937\n",
      "=====================================\n",
      "Rule: ALARM CLOCK BAKELIKE IVORY -> ALARM CLOCK BAKELIKE RED\n",
      "Support: 0.011843938690199722\n",
      "Confidence: 0.6234718826405868\n",
      "Lift: 19.094380701638457\n",
      "=====================================\n",
      "Rule: ALARM CLOCK BAKELIKE ORANGE -> ALARM CLOCK BAKELIKE RED\n",
      "Support: 0.010032512772875058\n",
      "Confidence: 0.6708074534161491\n",
      "Lift: 20.544074640184483\n",
      "=====================================\n",
      "Rule: ALARM CLOCK BAKELIKE RED -> ALARM CLOCK BAKELIKE PINK\n",
      "Support: 0.014305620065025546\n",
      "Confidence: 0.5529622980251346\n",
      "Lift: 16.934961986459673\n",
      "=====================================\n",
      "Rule: BLUE HARMONICA IN BOX -> RED  HARMONICA IN BOX\n",
      "Support: 0.010496980956804458\n",
      "Confidence: 0.5419664268585132\n",
      "Lift: 24.826674830348484\n",
      "=====================================\n",
      "Rule: CHARLOTTE BAG SUKI DESIGN -> CHARLOTTE BAG PINK POLKADOT\n",
      "Support: 0.012122619600557362\n",
      "Confidence: 0.5251509054325956\n",
      "Lift: 19.870824242467105\n",
      "=====================================\n",
      "Rule: CHARLOTTE BAG PINK POLKADOT -> RED RETROSPOT CHARLOTTE BAG\n",
      "Support: 0.010357640501625638\n",
      "Confidence: 0.44869215291750497\n",
      "Lift: 13.702612840161533\n",
      "=====================================\n"
     ]
    }
   ],
   "source": [
    "#Displaying the association rules for 10 results\n",
    "display_rules(association_results[:10])"
   ]
  },
  {
   "cell_type": "code",
   "execution_count": 23,
   "id": "9773bf10",
   "metadata": {},
   "outputs": [
    {
     "data": {
      "text/plain": [
       "[('WHITE HANGING HEART T-LIGHT HOLDER', 1556),\n",
       " ('REGENCY CAKESTAND 3 TIER', 1442),\n",
       " ('JUMBO BAG RED RETROSPOT', 1392),\n",
       " ('PARTY BUNTING', 1202),\n",
       " ('LUNCH BAG RED RETROSPOT', 1082),\n",
       " ('ASSORTED COLOUR BIRD ORNAMENT', 997),\n",
       " ('PACK OF 72 RETROSPOT CAKE CASES', 949),\n",
       " ('SET OF 3 CAKE TINS PANTRY DESIGN', 943),\n",
       " (\"PAPER CHAIN KIT 50'S CHRISTMAS\", 903),\n",
       " ('NATURAL SLATE HEART CHALKBOARD', 884)]"
      ]
     },
     "execution_count": 23,
     "metadata": {},
     "output_type": "execute_result"
    }
   ],
   "source": [
    "from collections import Counter\n",
    "\n",
    "#For loop to find the 10 most common items.\n",
    "counter = Counter(baskets[0])\n",
    "for i in baskets[1:]:\n",
    "    if i != 'nan':\n",
    "        counter.update(i)\n",
    " \n",
    "del counter['nan']\n",
    "counter.most_common(10)"
   ]
  },
  {
   "cell_type": "markdown",
   "id": "a25e82d4",
   "metadata": {},
   "source": [
    "From the First 10 Association rules generated using the parameters of minimum support set to 0.01, minimum confidence set to 0.2, minimum lift set to 3 and minimum lenght of rules set to 2, I observed that only ONE item from the most common items sold in the store was seen in the rules generated. The item is: PACK OF 72 RETROSPOT CAKE CASES."
   ]
  },
  {
   "cell_type": "markdown",
   "id": "be0308c2",
   "metadata": {},
   "source": [
    "Secondly, not all the top 10 items were included in the rules generated. The most common items in the shop are the items which customers frequently buy. The fact they are bought frequently does not necessarily mean that were bought together with other items. So the reason why 9 items were MISSING in the rules generated for my dataset means that in as much as they were frequently bought, they were not bought together with other items. However there is one item which is PRESENT in the rules generated which is PACK OF 72 RETROSPOT CAKES, This item is present because it is one of the most common items bought in the store and is bought together with 60 TEATIME FAIRY CAKE CASES\n",
    "\n",
    "However, this is the result and observation from a particular setting, from my understanding of association mining, the results and general observation may be different when another setting is used."
   ]
  },
  {
   "cell_type": "markdown",
   "id": "6fdd282c",
   "metadata": {},
   "source": [
    "Running the apriori algorithm with the following three different settings:\n",
    "\n",
    "Setting 1: Min Support = 0.015, Min Confidence = 0.7, Min Lift = 3\n",
    "Setting 2: Min Support = 0.009, Min Confidence = 0.5, Min Lift = 3\n",
    "Setting 3: Min Support = 0.015, Min Confidence = 0.5, Min Lift = 9"
   ]
  },
  {
   "cell_type": "markdown",
   "id": "818812fe",
   "metadata": {},
   "source": [
    "## Setting 1: Min Support = 0.015, Min Confidence = 0.7, Min Lift = 3"
   ]
  },
  {
   "cell_type": "code",
   "execution_count": 24,
   "id": "95308911",
   "metadata": {},
   "outputs": [],
   "source": [
    "association_rules = apriori(baskets, min_support=0.015, min_confidence=0.7, min_lift=3, min_length=2)\n",
    "association_results = list(association_rules)"
   ]
  },
  {
   "cell_type": "code",
   "execution_count": 25,
   "id": "bae407af",
   "metadata": {},
   "outputs": [
    {
     "name": "stdout",
     "output_type": "stream",
     "text": [
      "Rules generated:  3\n"
     ]
    }
   ],
   "source": [
    "print('Rules generated: ', len(association_results))"
   ]
  },
  {
   "cell_type": "code",
   "execution_count": 26,
   "id": "eb0aedce",
   "metadata": {},
   "outputs": [
    {
     "name": "stdout",
     "output_type": "stream",
     "text": [
      "RelationRecord(items=frozenset({'PINK REGENCY TEACUP AND SAUCER', 'GREEN REGENCY TEACUP AND SAUCER'}), support=0.018950301904319553, ordered_statistics=[OrderedStatistic(items_base=frozenset({'PINK REGENCY TEACUP AND SAUCER'}), items_add=frozenset({'GREEN REGENCY TEACUP AND SAUCER'}), confidence=0.8176352705410821, lift=26.07953685148074)])\n"
     ]
    }
   ],
   "source": [
    "print(association_results[0])"
   ]
  },
  {
   "cell_type": "code",
   "execution_count": 27,
   "id": "94d04f35",
   "metadata": {},
   "outputs": [
    {
     "name": "stdout",
     "output_type": "stream",
     "text": [
      "RelationRecord(items=frozenset({'PINK REGENCY TEACUP AND SAUCER', 'ROSES REGENCY TEACUP AND SAUCER'}), support=0.01686019507663725, ordered_statistics=[OrderedStatistic(items_base=frozenset({'PINK REGENCY TEACUP AND SAUCER'}), items_add=frozenset({'ROSES REGENCY TEACUP AND SAUCER'}), confidence=0.7274549098196392, lift=21.602902356437014)])\n"
     ]
    }
   ],
   "source": [
    "print(association_results[1])"
   ]
  },
  {
   "cell_type": "code",
   "execution_count": 28,
   "id": "5cc2b5b6",
   "metadata": {},
   "outputs": [],
   "source": [
    "def display_rules(association_results):\n",
    "    for item in association_results:\n",
    "        pair = item[0] \n",
    "        items = [x for x in pair]\n",
    "        print(\"Rule: \" + items[0] + \" -> \" + items[1])\n",
    "        print(\"Support: \" + str(item[1]))\n",
    "        print(\"Confidence: \" + str(item[2][0][2]))\n",
    "        print(\"Lift: \" + str(item[2][0][3]))\n",
    "        print(\"=====================================\")"
   ]
  },
  {
   "cell_type": "code",
   "execution_count": 29,
   "id": "bc9a11f1",
   "metadata": {},
   "outputs": [
    {
     "name": "stdout",
     "output_type": "stream",
     "text": [
      "Rule: PINK REGENCY TEACUP AND SAUCER -> GREEN REGENCY TEACUP AND SAUCER\n",
      "Support: 0.018950301904319553\n",
      "Confidence: 0.8176352705410821\n",
      "Lift: 26.07953685148074\n",
      "=====================================\n",
      "Rule: PINK REGENCY TEACUP AND SAUCER -> ROSES REGENCY TEACUP AND SAUCER\n",
      "Support: 0.01686019507663725\n",
      "Confidence: 0.7274549098196392\n",
      "Lift: 21.602902356437014\n",
      "=====================================\n",
      "Rule: PINK REGENCY TEACUP AND SAUCER -> ROSES REGENCY TEACUP AND SAUCER\n",
      "Support: 0.015095215977705528\n",
      "Confidence: 0.7965686274509804\n",
      "Lift: 23.6553414469236\n",
      "=====================================\n"
     ]
    }
   ],
   "source": [
    "display_rules(association_results[:3])"
   ]
  },
  {
   "cell_type": "code",
   "execution_count": 30,
   "id": "68d40b48",
   "metadata": {
    "scrolled": true
   },
   "outputs": [
    {
     "data": {
      "text/plain": [
       "[('WHITE HANGING HEART T-LIGHT HOLDER', 1556),\n",
       " ('REGENCY CAKESTAND 3 TIER', 1442),\n",
       " ('JUMBO BAG RED RETROSPOT', 1392),\n",
       " ('PARTY BUNTING', 1202),\n",
       " ('LUNCH BAG RED RETROSPOT', 1082),\n",
       " ('ASSORTED COLOUR BIRD ORNAMENT', 997),\n",
       " ('PACK OF 72 RETROSPOT CAKE CASES', 949),\n",
       " ('SET OF 3 CAKE TINS PANTRY DESIGN', 943),\n",
       " (\"PAPER CHAIN KIT 50'S CHRISTMAS\", 903),\n",
       " ('NATURAL SLATE HEART CHALKBOARD', 884)]"
      ]
     },
     "execution_count": 30,
     "metadata": {},
     "output_type": "execute_result"
    }
   ],
   "source": [
    "from collections import Counter\n",
    " \n",
    "counter = Counter(baskets[0])\n",
    "for i in baskets[1:]:\n",
    "    if i != 'nan':\n",
    "        counter.update(i)\n",
    " \n",
    "del counter['nan']\n",
    "counter.most_common(10)"
   ]
  },
  {
   "cell_type": "markdown",
   "id": "de9fa134",
   "metadata": {},
   "source": [
    "## Setting 1 discussion\n",
    "From the 3 rules generated,  using the parameters of minimum support set to 0.015, minimum confidence set to 0.009, minimum lift set to 3 and minimum length of rules set to 2, I observed that NO item from the top 10 most common items sold in the store was seen in the rules generated.\n",
    "\n",
    "These items passed the requirements for minimum support and minimum confidence. However,the reason why all items are missing from the generated rules is because in as much as they were commonly bought by customers, they were not bought together with other items."
   ]
  },
  {
   "cell_type": "markdown",
   "id": "9e918062",
   "metadata": {},
   "source": [
    "## Setting 2: Min Support = 0.009, Min Confidence = 0.5, Min Lift = 3"
   ]
  },
  {
   "cell_type": "code",
   "execution_count": 31,
   "id": "15751674",
   "metadata": {},
   "outputs": [],
   "source": [
    "association_rules = apriori(baskets, min_support=0.009, min_confidence=0.5, min_lift=3, min_length=2)\n",
    "association_results = list(association_rules)"
   ]
  },
  {
   "cell_type": "code",
   "execution_count": 32,
   "id": "3ebbf17f",
   "metadata": {},
   "outputs": [
    {
     "name": "stdout",
     "output_type": "stream",
     "text": [
      "Rules generated:  48\n"
     ]
    }
   ],
   "source": [
    "print('Rules generated: ', len(association_results))"
   ]
  },
  {
   "cell_type": "code",
   "execution_count": 33,
   "id": "255495c4",
   "metadata": {},
   "outputs": [
    {
     "name": "stdout",
     "output_type": "stream",
     "text": [
      "RelationRecord(items=frozenset({'ALARM CLOCK BAKELIKE CHOCOLATE', 'ALARM CLOCK BAKELIKE RED'}), support=0.009010682768230376, ordered_statistics=[OrderedStatistic(items_base=frozenset({'ALARM CLOCK BAKELIKE CHOCOLATE'}), items_add=frozenset({'ALARM CLOCK BAKELIKE RED'}), confidence=0.627831715210356, lift=19.22790445018345)])\n"
     ]
    }
   ],
   "source": [
    "print(association_results[0])"
   ]
  },
  {
   "cell_type": "code",
   "execution_count": 34,
   "id": "02bd6e56",
   "metadata": {},
   "outputs": [
    {
     "name": "stdout",
     "output_type": "stream",
     "text": [
      "RelationRecord(items=frozenset({'ALARM CLOCK BAKELIKE IVORY', 'ALARM CLOCK BAKELIKE GREEN'}), support=0.010357640501625638, ordered_statistics=[OrderedStatistic(items_base=frozenset({'ALARM CLOCK BAKELIKE IVORY'}), items_add=frozenset({'ALARM CLOCK BAKELIKE GREEN'}), confidence=0.5452322738386307, lift=17.73240310535607)])\n"
     ]
    }
   ],
   "source": [
    "print(association_results[1])"
   ]
  },
  {
   "cell_type": "code",
   "execution_count": 35,
   "id": "a025ae33",
   "metadata": {},
   "outputs": [],
   "source": [
    "def display_rules(association_results):\n",
    "    for item in association_results:\n",
    "        pair = item[0] \n",
    "        items = [x for x in pair]\n",
    "        print(\"Rule: \" + items[0] + \" -> \" + items[1])\n",
    "        print(\"Support: \" + str(item[1]))\n",
    "        print(\"Confidence: \" + str(item[2][0][2]))\n",
    "        print(\"Lift: \" + str(item[2][0][3]))\n",
    "        print(\"=====================================\")"
   ]
  },
  {
   "cell_type": "code",
   "execution_count": 36,
   "id": "629cf633",
   "metadata": {},
   "outputs": [
    {
     "name": "stdout",
     "output_type": "stream",
     "text": [
      "Rule: ALARM CLOCK BAKELIKE CHOCOLATE -> ALARM CLOCK BAKELIKE RED\n",
      "Support: 0.009010682768230376\n",
      "Confidence: 0.627831715210356\n",
      "Lift: 19.22790445018345\n",
      "=====================================\n",
      "Rule: ALARM CLOCK BAKELIKE IVORY -> ALARM CLOCK BAKELIKE GREEN\n",
      "Support: 0.010357640501625638\n",
      "Confidence: 0.5452322738386307\n",
      "Lift: 17.73240310535607\n",
      "=====================================\n",
      "Rule: ALARM CLOCK BAKELIKE ORANGE -> ALARM CLOCK BAKELIKE GREEN\n",
      "Support: 0.009335810496980956\n",
      "Confidence: 0.6242236024844721\n",
      "Lift: 20.301411120076562\n",
      "=====================================\n",
      "Rule: ALARM CLOCK BAKELIKE GREEN -> ALARM CLOCK BAKELIKE RED\n",
      "Support: 0.019461216906641893\n",
      "Confidence: 0.632930513595166\n",
      "Lift: 19.38405968378937\n",
      "=====================================\n",
      "Rule: ALARM CLOCK BAKELIKE IVORY -> ALARM CLOCK BAKELIKE PINK\n",
      "Support: 0.009568044588945657\n",
      "Confidence: 0.5036674816625917\n",
      "Lift: 19.468511454570194\n",
      "=====================================\n",
      "Rule: ALARM CLOCK BAKELIKE IVORY -> ALARM CLOCK BAKELIKE RED\n",
      "Support: 0.011843938690199722\n",
      "Confidence: 0.6234718826405868\n",
      "Lift: 19.094380701638457\n",
      "=====================================\n",
      "Rule: ALARM CLOCK BAKELIKE ORANGE -> ALARM CLOCK BAKELIKE RED\n",
      "Support: 0.010032512772875058\n",
      "Confidence: 0.6708074534161491\n",
      "Lift: 20.544074640184483\n",
      "=====================================\n",
      "Rule: ALARM CLOCK BAKELIKE RED -> ALARM CLOCK BAKELIKE PINK\n",
      "Support: 0.014305620065025546\n",
      "Confidence: 0.5529622980251346\n",
      "Lift: 16.934961986459673\n",
      "=====================================\n",
      "Rule: BLUE HARMONICA IN BOX -> RED  HARMONICA IN BOX\n",
      "Support: 0.010496980956804458\n",
      "Confidence: 0.5419664268585132\n",
      "Lift: 24.826674830348484\n",
      "=====================================\n",
      "Rule: CHARLOTTE BAG SUKI DESIGN -> CHARLOTTE BAG PINK POLKADOT\n",
      "Support: 0.012122619600557362\n",
      "Confidence: 0.5251509054325956\n",
      "Lift: 19.870824242467105\n",
      "=====================================\n"
     ]
    }
   ],
   "source": [
    "display_rules(association_results[:10])"
   ]
  },
  {
   "cell_type": "code",
   "execution_count": 37,
   "id": "62ed74eb",
   "metadata": {
    "scrolled": false
   },
   "outputs": [
    {
     "data": {
      "text/plain": [
       "[('WHITE HANGING HEART T-LIGHT HOLDER', 1556),\n",
       " ('REGENCY CAKESTAND 3 TIER', 1442),\n",
       " ('JUMBO BAG RED RETROSPOT', 1392),\n",
       " ('PARTY BUNTING', 1202),\n",
       " ('LUNCH BAG RED RETROSPOT', 1082),\n",
       " ('ASSORTED COLOUR BIRD ORNAMENT', 997),\n",
       " ('PACK OF 72 RETROSPOT CAKE CASES', 949),\n",
       " ('SET OF 3 CAKE TINS PANTRY DESIGN', 943),\n",
       " (\"PAPER CHAIN KIT 50'S CHRISTMAS\", 903),\n",
       " ('NATURAL SLATE HEART CHALKBOARD', 884)]"
      ]
     },
     "execution_count": 37,
     "metadata": {},
     "output_type": "execute_result"
    }
   ],
   "source": [
    "from collections import Counter\n",
    " \n",
    "counter = Counter(baskets[0])\n",
    "for i in baskets[1:]:\n",
    "    if i != 'nan':\n",
    "        counter.update(i)\n",
    " \n",
    "del counter['nan']\n",
    "counter.most_common(10)"
   ]
  },
  {
   "cell_type": "markdown",
   "id": "304e0c7c",
   "metadata": {},
   "source": [
    "## Setting 2 discussion\n",
    "From the First 10 rules generated, using the parameters of minimum support set to 0.009, minimum confidence set to 0.5, minimum lift set to 3 and minimum length of rules set to 2, Similar to Setting 1, I observed that NO item from the top 10 most common items sold in the store was seen in the rules generated.\n",
    "\n",
    "These items passed the requirements for minimum support and minimum confidence. However,the reason why all items are missing from the generated rules is because in as much as they were commonly bought by customers, they were not bought together with other items."
   ]
  },
  {
   "cell_type": "markdown",
   "id": "ef463940",
   "metadata": {},
   "source": [
    "## Setting 3: Min Support = 0.015, Min Confidence = 0.5, Min Lift = 9"
   ]
  },
  {
   "cell_type": "code",
   "execution_count": 38,
   "id": "80d8aec3",
   "metadata": {},
   "outputs": [],
   "source": [
    "association_rules = apriori(baskets, min_support=0.015, min_confidence=0.5, min_lift=9, min_length=2)\n",
    "association_results = list(association_rules)"
   ]
  },
  {
   "cell_type": "code",
   "execution_count": 39,
   "id": "444d7e01",
   "metadata": {},
   "outputs": [
    {
     "name": "stdout",
     "output_type": "stream",
     "text": [
      "Rules generated:  10\n"
     ]
    }
   ],
   "source": [
    "print('Rules generated: ', len(association_results))"
   ]
  },
  {
   "cell_type": "code",
   "execution_count": 40,
   "id": "2139047b",
   "metadata": {},
   "outputs": [
    {
     "name": "stdout",
     "output_type": "stream",
     "text": [
      "RelationRecord(items=frozenset({'ALARM CLOCK BAKELIKE GREEN', 'ALARM CLOCK BAKELIKE RED'}), support=0.019461216906641893, ordered_statistics=[OrderedStatistic(items_base=frozenset({'ALARM CLOCK BAKELIKE GREEN'}), items_add=frozenset({'ALARM CLOCK BAKELIKE RED'}), confidence=0.632930513595166, lift=19.38405968378937), OrderedStatistic(items_base=frozenset({'ALARM CLOCK BAKELIKE RED'}), items_add=frozenset({'ALARM CLOCK BAKELIKE GREEN'}), confidence=0.5960170697012802, lift=19.38405968378937)])\n"
     ]
    }
   ],
   "source": [
    "print(association_results[0])"
   ]
  },
  {
   "cell_type": "code",
   "execution_count": 41,
   "id": "59f7a594",
   "metadata": {},
   "outputs": [
    {
     "name": "stdout",
     "output_type": "stream",
     "text": [
      "RelationRecord(items=frozenset({'GARDENERS KNEELING PAD CUP OF TEA', 'GARDENERS KNEELING PAD KEEP CALM'}), support=0.01690664189503019, ordered_statistics=[OrderedStatistic(items_base=frozenset({'GARDENERS KNEELING PAD CUP OF TEA'}), items_add=frozenset({'GARDENERS KNEELING PAD KEEP CALM'}), confidence=0.6728280961182994, lift=23.140557363301895), OrderedStatistic(items_base=frozenset({'GARDENERS KNEELING PAD KEEP CALM'}), items_add=frozenset({'GARDENERS KNEELING PAD CUP OF TEA'}), confidence=0.5814696485623002, lift=23.14055736330189)])\n"
     ]
    }
   ],
   "source": [
    "print(association_results[1])"
   ]
  },
  {
   "cell_type": "code",
   "execution_count": 42,
   "id": "f9dd5287",
   "metadata": {},
   "outputs": [],
   "source": [
    "def display_rules(association_results):\n",
    "    for item in association_results:\n",
    "        pair = item[0] \n",
    "        items = [x for x in pair]\n",
    "        print(\"Rule: \" + items[0] + \" -> \" + items[1])\n",
    "        print(\"Support: \" + str(item[1]))\n",
    "        print(\"Confidence: \" + str(item[2][0][2]))\n",
    "        print(\"Lift: \" + str(item[2][0][3]))\n",
    "        print(\"=====================================\")"
   ]
  },
  {
   "cell_type": "code",
   "execution_count": 43,
   "id": "54c1a26e",
   "metadata": {},
   "outputs": [
    {
     "name": "stdout",
     "output_type": "stream",
     "text": [
      "Rule: ALARM CLOCK BAKELIKE GREEN -> ALARM CLOCK BAKELIKE RED\n",
      "Support: 0.019461216906641893\n",
      "Confidence: 0.632930513595166\n",
      "Lift: 19.38405968378937\n",
      "=====================================\n",
      "Rule: GARDENERS KNEELING PAD CUP OF TEA -> GARDENERS KNEELING PAD KEEP CALM\n",
      "Support: 0.01690664189503019\n",
      "Confidence: 0.6728280961182994\n",
      "Lift: 23.140557363301895\n",
      "=====================================\n",
      "Rule: PINK REGENCY TEACUP AND SAUCER -> GREEN REGENCY TEACUP AND SAUCER\n",
      "Support: 0.018950301904319553\n",
      "Confidence: 0.6044444444444445\n",
      "Lift: 26.07953685148074\n",
      "=====================================\n",
      "Rule: ROSES REGENCY TEACUP AND SAUCER -> GREEN REGENCY TEACUP AND SAUCER\n",
      "Support: 0.0215513237343242\n",
      "Confidence: 0.6874074074074075\n",
      "Lift: 20.413629629629632\n",
      "=====================================\n",
      "Rule: HEART OF WICKER LARGE -> HEART OF WICKER SMALL\n",
      "Support: 0.015513237343241988\n",
      "Confidence: 0.5060606060606061\n",
      "Lift: 13.095534673659676\n",
      "=====================================\n",
      "Rule: JUMBO BAG RED RETROSPOT -> JUMBO BAG STRAWBERRY\n",
      "Support: 0.015234556432884348\n",
      "Confidence: 0.5952813067150636\n",
      "Lift: 9.273810805770854\n",
      "=====================================\n",
      "Rule: LUNCH BAG WOODLAND -> LUNCH BAG RED RETROSPOT\n",
      "Support: 0.01620993961913609\n",
      "Confidence: 0.5036075036075036\n",
      "Lift: 10.171359805506148\n",
      "=====================================\n",
      "Rule: PINK REGENCY TEACUP AND SAUCER -> ROSES REGENCY TEACUP AND SAUCER\n",
      "Support: 0.01686019507663725\n",
      "Confidence: 0.7274549098196392\n",
      "Lift: 21.602902356437014\n",
      "=====================================\n",
      "Rule: WOODEN FRAME ANTIQUE WHITE -> WOODEN PICTURE FRAME WHITE FINISH\n",
      "Support: 0.01830004644681839\n",
      "Confidence: 0.5735080058224163\n",
      "Lift: 15.338667534604502\n",
      "=====================================\n",
      "Rule: PINK REGENCY TEACUP AND SAUCER -> ROSES REGENCY TEACUP AND SAUCER\n",
      "Support: 0.015095215977705528\n",
      "Confidence: 0.6513026052104208\n",
      "Lift: 30.22100234952664\n",
      "=====================================\n"
     ]
    }
   ],
   "source": [
    "display_rules(association_results[:10])"
   ]
  },
  {
   "cell_type": "code",
   "execution_count": 44,
   "id": "b9c8ffa8",
   "metadata": {},
   "outputs": [
    {
     "data": {
      "text/plain": [
       "[('WHITE HANGING HEART T-LIGHT HOLDER', 1556),\n",
       " ('REGENCY CAKESTAND 3 TIER', 1442),\n",
       " ('JUMBO BAG RED RETROSPOT', 1392),\n",
       " ('PARTY BUNTING', 1202),\n",
       " ('LUNCH BAG RED RETROSPOT', 1082),\n",
       " ('ASSORTED COLOUR BIRD ORNAMENT', 997),\n",
       " ('PACK OF 72 RETROSPOT CAKE CASES', 949),\n",
       " ('SET OF 3 CAKE TINS PANTRY DESIGN', 943),\n",
       " (\"PAPER CHAIN KIT 50'S CHRISTMAS\", 903),\n",
       " ('NATURAL SLATE HEART CHALKBOARD', 884)]"
      ]
     },
     "execution_count": 44,
     "metadata": {},
     "output_type": "execute_result"
    }
   ],
   "source": [
    "from collections import Counter\n",
    " \n",
    "counter = Counter(baskets[0])\n",
    "for i in baskets[1:]:\n",
    "    if i != 'nan':\n",
    "        counter.update(i)\n",
    " \n",
    "del counter['nan']\n",
    "counter.most_common(10)"
   ]
  },
  {
   "cell_type": "markdown",
   "id": "8d50a3c9",
   "metadata": {},
   "source": [
    "## Setting 3 Discussion\n",
    "From the 10 rules generated, using the parameters of minimum support set to 0.015, minimum confidence set to 0.7, minimum lift set to 9 and minimum length of rules set to 2, I observed that TWO items from the top 10 most common items sold in the store was seen in the rules generated and they are: JUMBO BAG RED RETROSPOT and LUNCH BAG RED RETROSPOT.\n",
    "\n",
    "All items passed the requirements for minimum support and minimum confidence. The reason why 8 items are missing from the generated rules is because in as much as they were commonly bought by customers, they were not bought together with other items. However there are two items which are PRESENT in the rules generated which is 1).JUMBO BAG RED RETROSPOT, This item is present because it is one of the most common items bought in the store and is bought together with JUMBO BAG STRAWBERRY and 2).LUNCH BAG RED RETROSPOT which is bought together with LUNCH BAG WOODLAND."
   ]
  },
  {
   "cell_type": "markdown",
   "id": "05c5149c",
   "metadata": {},
   "source": [
    "# General Discussion of settings, parameters and Rules generated\n",
    "Setting 1: Min Support = 0.015, Min Confidence = 0.7, Min Lift = 3, rules generated = 3. \n",
    "\n",
    "This setting has the highest minimum confidence value of all three settings, which means that the rules generated are likely to be more reliable as they require a higher degree of confidence in the association between items before they are considered valid. Additionally, the minimum lift value of 3 indicates that the rules generated are likely to be significant, as they have a higher degree of correlation between items. However, the number of rules generated in this setting is only 3, which may limit the insights that can be gained from the data.\n",
    "\n",
    "Setting 2: Min Support = 0.009, Min Confidence = 0.5, Min Lift = 3, rules generated = 48\n",
    "\n",
    "This setting has a lower minimum confidence value than setting 1, which means that there may be more noise in the rules generated. However, the number of rules generated in this setting is significantly higher, which may allow for a more comprehensive analysis of the data. Additionally, the minimum lift value of 3 indicates that the rules generated are likely to be significant.\n",
    "\n",
    "Setting 3: Min Support = 0.015, Min Confidence = 0.5, Min Lift = 9, rules generated = 10\n",
    "\n",
    "This setting has the highest minimum lift value of all three settings, which means that the rules generated are likely to be more significant than those in the other two settings. However, the lower minimum confidence value may result in more noise in the rules generated. Additionally, the number of rules generated in this setting is only 10, which may limit the insights that can be gained from the data.\n",
    "\n",
    "In summary, the quality of the rules generated in each setting depends on the balance between the minimum support, minimum confidence, and minimum lift values used. While higher values of these parameters tend to produce more reliable and significant rules, they may also result in fewer rules being generated. Conversely, lower values may produce more rules but with more noise, which can limit the insights that can be gained from the data. Therefore, it is important to strike a balance between these parameters to generate rules that are both reliable and informative.\n",
    "\n",
    "Note: A minimum length of 2 was used for all settings"
   ]
  },
  {
   "cell_type": "markdown",
   "id": "d4cc23ca",
   "metadata": {},
   "source": [
    "# REFERENCES\n",
    "[1] Chonyy (2022) Apriori: Association rule mining in-depth explanation and python implementation, Medium. Towards Data Science. Available at: https://towardsdatascience.com/apriori-association-rule-mining-explanation-and-python-implementation-290b42afdfc6 (Accessed: March 1, 2023). "
   ]
  }
 ],
 "metadata": {
  "kernelspec": {
   "display_name": "Python 3 (ipykernel)",
   "language": "python",
   "name": "python3"
  },
  "language_info": {
   "codemirror_mode": {
    "name": "ipython",
    "version": 3
   },
   "file_extension": ".py",
   "mimetype": "text/x-python",
   "name": "python",
   "nbconvert_exporter": "python",
   "pygments_lexer": "ipython3",
   "version": "3.9.12"
  }
 },
 "nbformat": 4,
 "nbformat_minor": 5
}
